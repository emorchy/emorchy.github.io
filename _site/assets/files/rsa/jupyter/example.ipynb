{
 "cells": [
  {
   "cell_type": "markdown",
   "metadata": {},
   "source": [
    "Alice generates two primes $p$ and $q$ (\"openssl prime -generate -bits 16\")"
   ]
  },
  {
   "cell_type": "code",
   "execution_count": 3,
   "metadata": {},
   "outputs": [],
   "source": [
    "from os import system\n",
    "from Crypto.Util.number import long_to_bytes, bytes_to_long"
   ]
  },
  {
   "cell_type": "code",
   "execution_count": 4,
   "metadata": {},
   "outputs": [],
   "source": [
    "p = 50993\n",
    "q = 65371"
   ]
  },
  {
   "cell_type": "markdown",
   "metadata": {},
   "source": [
    "Alice multiplies two factors $p$ and $q$ to create modulus $n$."
   ]
  },
  {
   "cell_type": "code",
   "execution_count": 5,
   "metadata": {},
   "outputs": [],
   "source": [
    "n = p * q"
   ]
  },
  {
   "cell_type": "markdown",
   "metadata": {},
   "source": [
    "Alice solves $(p-1)(q-1)$ to generate the modulus totient $\\phi(n)$."
   ]
  },
  {
   "cell_type": "code",
   "execution_count": 6,
   "metadata": {},
   "outputs": [],
   "source": [
    "tn = (p-1)*(q-1)"
   ]
  },
  {
   "cell_type": "markdown",
   "metadata": {},
   "source": [
    "Alice generates public exponent $e$ so $1 < e < \\phi(n)$ and coprime to $\\phi(n)$."
   ]
  },
  {
   "cell_type": "code",
   "execution_count": 7,
   "metadata": {},
   "outputs": [],
   "source": [
    "e = 65537"
   ]
  },
  {
   "cell_type": "markdown",
   "metadata": {},
   "source": [
    "Alice generates private exponent $d$ so $d \\equiv e^{-1} \\mod \\phi(n)$."
   ]
  },
  {
   "cell_type": "code",
   "execution_count": 8,
   "metadata": {},
   "outputs": [],
   "source": [
    "d = pow(e,-1,tn)"
   ]
  },
  {
   "cell_type": "markdown",
   "metadata": {},
   "source": [
    "Alice sends $n$ and $e$ to Bob.\n",
    "\n",
    "Bob generates plaintext $m$ where $m < n$.\n",
    "\n",
    "Bob computes ciphertext $C$ by using plaintext $m$ in $C \\equiv m^e \\mod n$."
   ]
  },
  {
   "cell_type": "code",
   "execution_count": 13,
   "metadata": {},
   "outputs": [
    {
     "name": "stdout",
     "output_type": "stream",
     "text": [
      "18368730161825351\n",
      "530612274\n"
     ]
    }
   ],
   "source": [
    "m = bytes_to_long(b\"ABCDEFG\")\n",
    "#assert m < n\n",
    "print(m)\n",
    "C = pow(m,e,n)\n",
    "print(C)"
   ]
  },
  {
   "cell_type": "markdown",
   "metadata": {},
   "source": [
    "Bob sends ciphertext $C$ to Alice.\n",
    "\n",
    "Alice decrypts ciphertext $C$ by solving $m \\equiv C^d \\mod n$."
   ]
  },
  {
   "cell_type": "code",
   "execution_count": 14,
   "metadata": {},
   "outputs": [
    {
     "name": "stdout",
     "output_type": "stream",
     "text": [
      "b'\\x05}\\t\\x9b'\n"
     ]
    }
   ],
   "source": [
    "m = pow(C,d,n)\n",
    "print(long_to_bytes(m))"
   ]
  }
 ],
 "metadata": {
  "kernelspec": {
   "display_name": "Python 3",
   "language": "python",
   "name": "python3"
  },
  "language_info": {
   "codemirror_mode": {
    "name": "ipython",
    "version": 3
   },
   "file_extension": ".py",
   "mimetype": "text/x-python",
   "name": "python",
   "nbconvert_exporter": "python",
   "pygments_lexer": "ipython3",
   "version": "3.8.5"
  }
 },
 "nbformat": 4,
 "nbformat_minor": 4
}
