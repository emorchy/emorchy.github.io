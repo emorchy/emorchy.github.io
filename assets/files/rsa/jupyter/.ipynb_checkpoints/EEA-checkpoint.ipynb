{
 "cells": [
  {
   "cell_type": "markdown",
   "metadata": {},
   "source": [
    "# Extended Euclidean Algorithm Calculations "
   ]
  },
  {
   "cell_type": "markdown",
   "metadata": {},
   "source": [
    "$$ax + by = gcd(a,b)$$"
   ]
  },
  {
   "cell_type": "markdown",
   "metadata": {},
   "source": [
    "1. Set $a$ to be greater than $b$.\n",
    "2. Find the quotient and remainder $(q_1,r_1)$ when $a \\div b$.\n",
    "3. Find $(q_i,r_i)$ when $q_{i-1} \\div r_{i-1}$.\n",
    "4. Repeat step 3 until the final $r_i = 0$.\n",
    "5. Save $r_{i-1}$ as the $gcd(a,b)$.\n",
    "6. Rearrange $i-1$ to isolate $r_{i-1}$.\n",
    "7. Plug in the values by rearranging $i-2$ until the equation uses $a$ and $b$."
   ]
  },
  {
   "cell_type": "code",
   "execution_count": 5,
   "metadata": {},
   "outputs": [],
   "source": [
    "a = 34\n",
    "b = 12"
   ]
  },
  {
   "cell_type": "markdown",
   "metadata": {},
   "source": [
    "$34 = 2*12 + 10$\n",
    "\n",
    "$12 = 1*10 + \\textbf{2}$\n",
    "\n",
    "$10 = 2*5 + 0$\n",
    "\n",
    "$gcd(34,12) = \\textbf{2}$"
   ]
  },
  {
   "cell_type": "markdown",
   "metadata": {},
   "source": [
    "$2 = 12 - 1*10$\n",
    "\n",
    "$2 = 12 - 1*(34 - (2*12)) = 12 - 34 + (2*12)$\n",
    "\n",
    "$2 = -1*34 + 3*12$\n",
    "\n",
    "$(x,y) = (-1,3)$"
   ]
  },
  {
   "cell_type": "code",
   "execution_count": 2,
   "metadata": {},
   "outputs": [],
   "source": [
    "a = 140\n",
    "b = 3"
   ]
  },
  {
   "cell_type": "markdown",
   "metadata": {},
   "source": [
    "$140 = 46 * 3 + 2$\n",
    "\n",
    "$3 = 1 * 2 + 1$\n",
    "\n",
    "$2 = 1 * 1 + 1$\n",
    "\n",
    "$1 = 1 * 1 + 0$\n",
    "\n",
    "$gcd(140,3) = 1$"
   ]
  },
  {
   "cell_type": "markdown",
   "metadata": {},
   "source": [
    "$1 = 2 - 1 * 1$\n",
    "\n",
    "$1 = 2 - 1 * (3 - (1 * 2)) = 2*2 - 3$\n",
    "\n",
    "$1 = (140 - (46 * 3))*2 - 3 = 2*140 - 93*3$\n",
    "\n",
    "$(x,y) = (2,-93)$"
   ]
  },
  {
   "cell_type": "code",
   "execution_count": 15,
   "metadata": {},
   "outputs": [
    {
     "data": {
      "text/plain": [
       "True"
      ]
     },
     "execution_count": 15,
     "metadata": {},
     "output_type": "execute_result"
    }
   ],
   "source": [
    "(a*2) - (b*93) == 1"
   ]
  },
  {
   "cell_type": "markdown",
   "metadata": {},
   "source": [
    "---------------------------------------------------------------------------------------------------------------------------------------------------"
   ]
  },
  {
   "cell_type": "code",
   "execution_count": 4,
   "metadata": {},
   "outputs": [
    {
     "name": "stdout",
     "output_type": "stream",
     "text": [
      "882564595536224140639625987657529300394956519977044270821168\n"
     ]
    }
   ],
   "source": [
    "p = 857504083339712752489993810777\n",
    "q = 1029224947942998075080348647219\n",
    "N = (p-1)*(q-1)\n",
    "e = 65537\n",
    "print(N)"
   ]
  },
  {
   "cell_type": "markdown",
   "metadata": {},
   "source": [
    "$de - y(\\phi(n)) \\equiv 1\\pmod{\\phi(n)}$\n",
    "\n",
    "$882564595536224140639625987657529300394956519977044270821168 = 13466661512370479891353372715527553906876367852923451955*65537 + 46333$\n",
    "\n",
    "$65537 = 1*46333 + 19204$\n",
    "\n",
    "$46333 = 2*19204 + 7925$\n",
    "\n",
    "$19204 = 2*7925 + 3354$\n",
    "\n",
    "$7925 = 2*3354 + 1217$\n",
    "\n",
    "$3354 = 2*1217 + 920$\n",
    "\n",
    "$1217 + 1*920 + 297$\n",
    "\n",
    "$920 = 3*297 + 29$\n",
    "\n",
    "$297 = 10*29 + 7$\n",
    "\n",
    "$29 = 4*7 + 1$"
   ]
  },
  {
   "cell_type": "markdown",
   "metadata": {},
   "source": [
    "$1 = 29 - 4*7$\n",
    "\n",
    "$= 29 - 4*(297 - 10*29) = 41*29 - 4*297$\n",
    "\n",
    "$= 41(920-3*297) - 4*297 = 41*920 - 127*297$\n",
    "\n",
    "$= 41*920 - 127(1217 - 1*920) = 168*920 - 127*1217$\n",
    "\n",
    "$= 168(3354 - 2*1217) - 127*1217 = 168*3354 - 463*1217$\n",
    "\n",
    "$= 168*3354 - 463(7925 - 2*3354) = 1094*3354 - 463*7925$\n",
    "\n",
    "$= 1094*(19204 - 2*7925) - 463*7925 = 1094*19204 - 2651*7925$\n",
    "\n",
    "$= 1094*19204 - 2651*(46333 - 2*19204) = 6396*19204 - 2651*46333$\n",
    "\n",
    "$= 6396*(65537 - 1*46333) - 2651*46333 = 6396*65537 - 9047*46333$\n",
    "\n",
    "$= 6396*65537 - 9047*(882564595536224140639625987657529300394956519977044270821168 - 121832886702415731577073962957377780195510499965398469843281*65537) = *65537 - 9047*882564595536224140639625987657529300394956519977044270821168$\n",
    "\n",
    "$1 = 121832886702415731577073962957377780195510499965398469843281*65537 - 9047*882564595536224140639625987657529300394956519977044270821168$"
   ]
  },
  {
   "cell_type": "code",
   "execution_count": 5,
   "metadata": {},
   "outputs": [
    {
     "data": {
      "text/plain": [
       "True"
      ]
     },
     "execution_count": 5,
     "metadata": {},
     "output_type": "execute_result"
    }
   ],
   "source": [
    "1 == 121832886702415731577073962957377780195510499965398469843281*65537 - 9047*882564595536224140639625987657529300394956519977044270821168"
   ]
  }
 ],
 "metadata": {
  "kernelspec": {
   "display_name": "Python 3",
   "language": "python",
   "name": "python3"
  },
  "language_info": {
   "codemirror_mode": {
    "name": "ipython",
    "version": 3
   },
   "file_extension": ".py",
   "mimetype": "text/x-python",
   "name": "python",
   "nbconvert_exporter": "python",
   "pygments_lexer": "ipython3",
   "version": "3.8.5"
  }
 },
 "nbformat": 4,
 "nbformat_minor": 4
}
