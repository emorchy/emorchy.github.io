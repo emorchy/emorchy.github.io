{
 "cells": [
  {
   "cell_type": "code",
   "execution_count": 1,
   "metadata": {},
   "outputs": [],
   "source": [
    "from Crypto.Util.number import long_to_bytes"
   ]
  },
  {
   "cell_type": "code",
   "execution_count": 2,
   "metadata": {},
   "outputs": [],
   "source": [
    "e = 2621\n",
    "n = 8927"
   ]
  },
  {
   "cell_type": "code",
   "execution_count": 3,
   "metadata": {},
   "outputs": [],
   "source": [
    "def cf_expansion(n, d):\n",
    "    e = []\n",
    "    q = n // d\n",
    "    r = n % d\n",
    "    e.append(q)\n",
    "    while r != 0:\n",
    "        n, d = d, r\n",
    "        q = n // d\n",
    "        r = n % d\n",
    "        e.append(q)\n",
    "    return e\n",
    "\n",
    "def convergents(e):\n",
    "    n = [] # Nominators\n",
    "    d = [] # Denominators\n",
    "    for i in range(len(e)):\n",
    "        if i == 0:\n",
    "            ni = e[i]\n",
    "            di = 1\n",
    "        elif i == 1:\n",
    "            ni = e[i]*e[i-1] + 1\n",
    "            di = e[i]\n",
    "        else: # i > 1\n",
    "            ni = e[i]*n[i-1] + n[i-2]\n",
    "            di = e[i]*d[i-1] + d[i-2]\n",
    "        n.append(ni)\n",
    "        d.append(di)\n",
    "        yield (ni, di)"
   ]
  },
  {
   "cell_type": "code",
   "execution_count": 11,
   "metadata": {},
   "outputs": [
    {
     "name": "stdout",
     "output_type": "stream",
     "text": [
      "[0, 3, 2, 2, 6, 3, 8, 3]\n",
      "(5, 17)\n"
     ]
    }
   ],
   "source": [
    "expansion = cf_expansion(e,n)\n",
    "print(expansion)\n",
    "con = convergents(expansion)\n",
    "final = []\n",
    "for i in expansion:\n",
    "    temp = next(con)\n",
    "    if temp[0] > n ** 0.25:\n",
    "        print(final[-1])\n",
    "        break\n",
    "    else:\n",
    "        final.append(temp) # outputs (k,d)"
   ]
  },
  {
   "cell_type": "code",
   "execution_count": 8,
   "metadata": {},
   "outputs": [],
   "source": [
    "d = 5\n",
    "k = 17"
   ]
  },
  {
   "cell_type": "markdown",
   "metadata": {},
   "source": [
    "$\\frac{e}{\\phi(n)} - \\frac{k}{d} = \\frac{1}{d\\phi(n)}$"
   ]
  },
  {
   "cell_type": "markdown",
   "metadata": {},
   "source": [
    "$\\phi(n) \\approx de/k$"
   ]
  },
  {
   "cell_type": "code",
   "execution_count": 6,
   "metadata": {},
   "outputs": [
    {
     "data": {
      "text/plain": [
       "770.8823529411765"
      ]
     },
     "execution_count": 6,
     "metadata": {},
     "output_type": "execute_result"
    }
   ],
   "source": [
    "(d*e)/k"
   ]
  },
  {
   "cell_type": "markdown",
   "metadata": {},
   "source": [
    "$5 < n^{1/4}$\n",
    "\n",
    "$32 > n^{1/4}$\n",
    "\n",
    "Therefore, d is 5."
   ]
  }
 ],
 "metadata": {
  "kernelspec": {
   "display_name": "Python 3",
   "language": "python",
   "name": "python3"
  },
  "language_info": {
   "codemirror_mode": {
    "name": "ipython",
    "version": 3
   },
   "file_extension": ".py",
   "mimetype": "text/x-python",
   "name": "python",
   "nbconvert_exporter": "python",
   "pygments_lexer": "ipython3",
   "version": "3.8.5"
  }
 },
 "nbformat": 4,
 "nbformat_minor": 4
}
