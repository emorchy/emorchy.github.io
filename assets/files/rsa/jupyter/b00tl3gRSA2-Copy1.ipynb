{
 "cells": [
  {
   "cell_type": "markdown",
   "metadata": {},
   "source": [
    "In RSA d is a lot bigger than e, why don't we use d to encrypt instead of e? Connect with nc jupiter.challenges.picoctf.org 18243."
   ]
  },
  {
   "cell_type": "code",
   "execution_count": 3,
   "metadata": {},
   "outputs": [],
   "source": [
    "c = 73499015018630299385184045125545340969957072033104648526674660820153283186161622263224137445792820752099203191895848121992689509787649920428167361026204915169461846123201094178141320643198353648645179625326645377230253152220580060517183235367230371000885923873241033959763008972750330227593749636273053113305\n",
    "n = 91061719194963648643220011005140643317101932624954814466623239207741789898667734854584517992809027208415994828660265505043938958276983135958346310582760052516373081102258255592264258854184068213340024803028272345761800062535431455081069828856196848814006163362526896925922257958127313550601524818599812003449\n",
    "e = 32014786639168064274965779232638747008092308613631748174702321659300526131119875471634067459180505606132611148620797068857552184836961844997730401790398918630477416513817723618945249011674834060722396635451556609449084315773852742527534010060132547464217237544415294084082969106087254479646281322037398373633"
   ]
  },
  {
   "cell_type": "markdown",
   "metadata": {},
   "source": [
    "Because e is so large, d must be small. Wiener's attack can be used."
   ]
  },
  {
   "cell_type": "code",
   "execution_count": 4,
   "metadata": {},
   "outputs": [],
   "source": [
    "d = 65537"
   ]
  },
  {
   "cell_type": "code",
   "execution_count": 5,
   "metadata": {},
   "outputs": [
    {
     "data": {
      "text/plain": [
       "b'picoCTF{bad_1d3a5_4783252}'"
      ]
     },
     "execution_count": 5,
     "metadata": {},
     "output_type": "execute_result"
    }
   ],
   "source": [
    "from Crypto.Util.number import long_to_bytes\n",
    "long_to_bytes(pow(c,d,n))"
   ]
  }
 ],
 "metadata": {
  "kernelspec": {
   "display_name": "Python 3",
   "language": "python",
   "name": "python3"
  },
  "language_info": {
   "codemirror_mode": {
    "name": "ipython",
    "version": 3
   },
   "file_extension": ".py",
   "mimetype": "text/x-python",
   "name": "python",
   "nbconvert_exporter": "python",
   "pygments_lexer": "ipython3",
   "version": "3.8.5"
  }
 },
 "nbformat": 4,
 "nbformat_minor": 4
}
